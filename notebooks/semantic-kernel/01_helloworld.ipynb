{
 "cells": [
  {
   "cell_type": "markdown",
   "metadata": {},
   "source": [
    "# 環境を準備しよう"
   ]
  },
  {
   "cell_type": "markdown",
   "metadata": {},
   "source": [
    "まず、Semantic Kernelと必要なパッケージをインストールしてバージョンを確認ます。"
   ]
  },
  {
   "cell_type": "code",
   "execution_count": 1,
   "metadata": {},
   "outputs": [],
   "source": [
    "%%capture\n",
    "%pip install -qU semantic-kernel python-dotenv"
   ]
  },
  {
   "cell_type": "code",
   "execution_count": 2,
   "metadata": {},
   "outputs": [
    {
     "data": {
      "text/plain": [
       "'1.18.2'"
      ]
     },
     "execution_count": 2,
     "metadata": {},
     "output_type": "execute_result"
    }
   ],
   "source": [
    "from semantic_kernel import __version__\n",
    "\n",
    "print(__version__)"
   ]
  },
  {
   "cell_type": "markdown",
   "metadata": {},
   "source": [
    "次に、Azure OpenAI Serviceのキー情報を保存している「.env」ファイルを読み込みます。\n",
    "`.env` ファイルには、次のような設定を記述します。\n",
    "\n",
    "```bash\n",
    "SK_AZURE_OPENAI_DEPLOYMENT_NAME=***\n",
    "SK_AZURE_OPENAI_API_KEY=***\n",
    "SK_AZURE_OPENAI_ENDPOINT=***\n",
    "SK_AZURE_OPENAI_API_VERSION=***\n",
    "```"
   ]
  },
  {
   "cell_type": "markdown",
   "metadata": {},
   "source": [
    "この情報をコードで読み込みます。"
   ]
  },
  {
   "cell_type": "code",
   "execution_count": 3,
   "metadata": {},
   "outputs": [
    {
     "data": {
      "text/plain": [
       "True"
      ]
     },
     "execution_count": 3,
     "metadata": {},
     "output_type": "execute_result"
    }
   ],
   "source": [
    "from dotenv import load_dotenv\n",
    "\n",
    "load_dotenv()"
   ]
  },
  {
   "cell_type": "markdown",
   "metadata": {},
   "source": [
    "# 「Hello World」を出力しよう"
   ]
  },
  {
   "cell_type": "markdown",
   "metadata": {},
   "source": [
    "### Kernel（カーネル）を作成する\n",
    "\n",
    "Semantic Kernelのメインコンポーネントである Kernel（カーネル）のインスタンスを作成します。<br/>\n",
    "今回は必須ではありませんが、Semantic Kernelの流れに慣れるために設定しておきます。"
   ]
  },
  {
   "cell_type": "code",
   "execution_count": 4,
   "metadata": {},
   "outputs": [],
   "source": [
    "from semantic_kernel import Kernel\n",
    "\n",
    "kernel = Kernel()"
   ]
  },
  {
   "cell_type": "markdown",
   "metadata": {},
   "source": [
    "### AIサービス（Azure OpenAI Service）を設定する\n",
    "\n",
    "Semantic Kernelでは、AIサービスを登録して使用します。<br/>\n",
    "ここでは、Azure OpenAI Serviceの GPT-4oモデルを利用し、[Chat Completion API](https://learn.microsoft.com/ja-jp/azure/ai-services/openai/how-to/chatgpt)を使います。<br/>\n",
    "サービスIDは必須ではありませんが、流れを理解しやすくするために設定しておきます。"
   ]
  },
  {
   "cell_type": "code",
   "execution_count": 5,
   "metadata": {},
   "outputs": [],
   "source": [
    "\n",
    "import os\n",
    "from semantic_kernel.connectors.ai.open_ai import AzureChatCompletion\n",
    "\n",
    "service_id = None\n",
    "chat_completion_service = AzureChatCompletion(\n",
    "    deployment_name = os.getenv(\"SK_AZURE_OPENAI_DEPLOYMENT_NAME\"),\n",
    "    api_key = os.getenv(\"SK_AZURE_OPENAI_API_KEY\"),\n",
    "    endpoint = os.getenv(\"SK_AZURE_OPENAI_ENDPOINT\"), \n",
    "    api_version = os.getenv(\"SK_AZURE_OPENAI_API_VERSION\"), \n",
    "    service_id = service_id,\n",
    ")\n",
    "kernel.add_service(chat_completion_service)"
   ]
  },
  {
   "cell_type": "markdown",
   "metadata": {},
   "source": [
    "### チャット履歴を作成する\n",
    "\n",
    "チャットセッション内でメッセージ履歴を管理するために、チャット履歴オブジェクトを作成します。"
   ]
  },
  {
   "cell_type": "code",
   "execution_count": 6,
   "metadata": {},
   "outputs": [],
   "source": [
    "from semantic_kernel.contents import ChatHistory\n",
    "\n",
    "chat_history = ChatHistory()"
   ]
  },
  {
   "cell_type": "markdown",
   "metadata": {},
   "source": [
    "### プロンプトの設定を作成する\n",
    "\n",
    "Chat Completion APIをSemantic Kernelを経由して呼び出す際に、プロンプトの設定オブジェクトを作成します。"
   ]
  },
  {
   "cell_type": "code",
   "execution_count": 7,
   "metadata": {},
   "outputs": [],
   "source": [
    "from semantic_kernel.connectors.ai.open_ai import AzureChatPromptExecutionSettings\n",
    "\n",
    "execution_settings = AzureChatPromptExecutionSettings()"
   ]
  },
  {
   "cell_type": "markdown",
   "metadata": {},
   "source": [
    "### 「Hello World」を送信し、AIの応答を受け取る\n",
    "\n",
    "ユーザーの入力として「Hello World」を送信し、Chat Completion APIから応答を取得して出力します。"
   ]
  },
  {
   "cell_type": "code",
   "execution_count": 8,
   "metadata": {},
   "outputs": [
    {
     "name": "stdout",
     "output_type": "stream",
     "text": [
      "Hello! How can I assist you today?\n"
     ]
    }
   ],
   "source": [
    "chat_history.add_user_message(\"Hello World.\")\n",
    "response = await chat_completion_service.get_chat_message_content(\n",
    "    chat_history=chat_history,\n",
    "    settings=execution_settings,\n",
    "    kernel=kernel,\n",
    ")\n",
    "print(response)"
   ]
  }
 ],
 "metadata": {
  "kernelspec": {
   "display_name": ".venv",
   "language": "python",
   "name": "python3"
  },
  "language_info": {
   "codemirror_mode": {
    "name": "ipython",
    "version": 3
   },
   "file_extension": ".py",
   "mimetype": "text/x-python",
   "name": "python",
   "nbconvert_exporter": "python",
   "pygments_lexer": "ipython3",
   "version": "3.12.8"
  }
 },
 "nbformat": 4,
 "nbformat_minor": 2
}
