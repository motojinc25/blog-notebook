{
 "cells": [
  {
   "cell_type": "markdown",
   "metadata": {},
   "source": [
    "# 環境を準備しよう"
   ]
  },
  {
   "cell_type": "markdown",
   "metadata": {},
   "source": [
    "まず、Semantic Kernelと必要なパッケージをインストールしてバージョンを確認ます。"
   ]
  },
  {
   "cell_type": "code",
   "execution_count": 1,
   "metadata": {},
   "outputs": [],
   "source": [
    "%%capture\n",
    "%pip install -qU semantic-kernel python-dotenv"
   ]
  },
  {
   "cell_type": "code",
   "execution_count": 2,
   "metadata": {},
   "outputs": [
    {
     "data": {
      "text/plain": [
       "'1.23.1'"
      ]
     },
     "execution_count": 2,
     "metadata": {},
     "output_type": "execute_result"
    }
   ],
   "source": [
    "from semantic_kernel import __version__\n",
    "\n",
    "__version__"
   ]
  },
  {
   "cell_type": "markdown",
   "metadata": {},
   "source": [
    "次に、Azure OpenAI Serviceのキー情報を保存している「.env」ファイルを読み込みます。\n",
    "`.env` ファイルには、次のような設定を記述します。\n",
    "\n",
    "```bash\n",
    "SK_AZURE_OPENAI_DEPLOYMENT_NAME=***\n",
    "SK_AZURE_OPENAI_API_KEY=***\n",
    "SK_AZURE_OPENAI_ENDPOINT=***\n",
    "SK_AZURE_OPENAI_API_VERSION=***\n",
    "```"
   ]
  },
  {
   "cell_type": "markdown",
   "metadata": {},
   "source": [
    "この情報をコードで読み込みます。"
   ]
  },
  {
   "cell_type": "code",
   "execution_count": 3,
   "metadata": {},
   "outputs": [
    {
     "data": {
      "text/plain": [
       "True"
      ]
     },
     "execution_count": 3,
     "metadata": {},
     "output_type": "execute_result"
    }
   ],
   "source": [
    "from dotenv import load_dotenv\n",
    "\n",
    "load_dotenv()"
   ]
  },
  {
   "cell_type": "markdown",
   "metadata": {},
   "source": [
    "# Function Callingを使って会話する"
   ]
  },
  {
   "cell_type": "markdown",
   "metadata": {},
   "source": [
    "### Kernel（カーネル）のインスタンス作成\n",
    "\n",
    "まずは、Semantic Kernel の中心となるクラス `Kernel` のインスタンスを作成します。"
   ]
  },
  {
   "cell_type": "code",
   "execution_count": 4,
   "metadata": {},
   "outputs": [],
   "source": [
    "from semantic_kernel import Kernel\n",
    "\n",
    "kernel = Kernel()"
   ]
  },
  {
   "cell_type": "markdown",
   "metadata": {},
   "source": [
    "### AIサービス（Azure OpenAI Service）を設定する\n",
    "\n",
    "Semantic Kernel では、さまざまな AI サービスを登録して使用できます。<br/>\n",
    "ここでは Azure OpenAI Service の GPT-4o モデルを利用し、[Chat Completion API](https://learn.microsoft.com/ja-jp/azure/ai-services/openai/how-to/chatgpt)を使う例を示します。"
   ]
  },
  {
   "cell_type": "code",
   "execution_count": 5,
   "metadata": {},
   "outputs": [],
   "source": [
    "import os\n",
    "from semantic_kernel.connectors.ai.open_ai import AzureChatCompletion\n",
    "\n",
    "service_id = None\n",
    "chat_completion_service = AzureChatCompletion(\n",
    "    deployment_name = os.getenv(\"SK_AZURE_OPENAI_DEPLOYMENT_NAME\"),\n",
    "    api_key = os.getenv(\"SK_AZURE_OPENAI_API_KEY\"),\n",
    "    endpoint = os.getenv(\"SK_AZURE_OPENAI_ENDPOINT\"), \n",
    "    api_version = os.getenv(\"SK_AZURE_OPENAI_API_VERSION\"), \n",
    "    service_id = service_id,\n",
    ")\n",
    "kernel.add_service(chat_completion_service)"
   ]
  },
  {
   "cell_type": "markdown",
   "metadata": {},
   "source": [
    "### チャット履歴を作成する\n",
    "\n",
    "会話の履歴を扱うため、ChatHistory オブジェクトを作成します。"
   ]
  },
  {
   "cell_type": "code",
   "execution_count": 6,
   "metadata": {},
   "outputs": [],
   "source": [
    "from semantic_kernel.contents import ChatHistory\n",
    "\n",
    "chat_history = ChatHistory()"
   ]
  },
  {
   "cell_type": "markdown",
   "metadata": {},
   "source": [
    "### コアー関数を登録する\n",
    "\n",
    "Function Calling の候補として使える コアー関数 を登録します。<br/>\n",
    "今回は、Semantic Kernel が標準でサポートしている 2 つの関数（MathPlugin / TimePlugin）を例として使います。"
   ]
  },
  {
   "cell_type": "code",
   "execution_count": 7,
   "metadata": {},
   "outputs": [
    {
     "data": {
      "text/plain": [
       "KernelPlugin(name='time', description=None, functions={'date': KernelFunctionFromMethod(metadata=KernelFunctionMetadata(name='date', plugin_name='time', description='Get the current date.', parameters=[], is_prompt=False, is_asynchronous=False, return_parameter=KernelParameterMetadata(name='return', description='', default_value=None, type_='str', is_required=True, type_object=<class 'str'>, schema_data={'type': 'string'}, include_in_function_choices=True), additional_properties={}), invocation_duration_histogram=<opentelemetry.metrics._internal.instrument._ProxyHistogram object at 0x00000163B007FFB0>, streaming_duration_histogram=<opentelemetry.metrics._internal.instrument._ProxyHistogram object at 0x00000163AEE40620>, method=<bound method TimePlugin.date of TimePlugin()>, stream_method=None), 'date_matching_last_day_name': KernelFunctionFromMethod(metadata=KernelFunctionMetadata(name='date_matching_last_day_name', plugin_name='time', description='Get the date of the last day matching the supplied week day name in English.', parameters=[KernelParameterMetadata(name='day_name', description=None, default_value=None, type_='str', is_required=True, type_object=<class 'str'>, schema_data={'type': 'string'}, include_in_function_choices=True)], is_prompt=False, is_asynchronous=False, return_parameter=KernelParameterMetadata(name='return', description='', default_value=None, type_='str', is_required=True, type_object=<class 'str'>, schema_data={'type': 'string'}, include_in_function_choices=True), additional_properties={}), invocation_duration_histogram=<opentelemetry.metrics._internal.instrument._ProxyHistogram object at 0x00000163B00CF590>, streaming_duration_histogram=<opentelemetry.metrics._internal.instrument._ProxyHistogram object at 0x00000163B00CF710>, method=<bound method TimePlugin.date_matching_last_day_name of TimePlugin()>, stream_method=None), 'day': KernelFunctionFromMethod(metadata=KernelFunctionMetadata(name='day', plugin_name='time', description='Get the current day', parameters=[], is_prompt=False, is_asynchronous=False, return_parameter=KernelParameterMetadata(name='return', description='', default_value=None, type_='str', is_required=True, type_object=<class 'str'>, schema_data={'type': 'string'}, include_in_function_choices=True), additional_properties={}), invocation_duration_histogram=<opentelemetry.metrics._internal.instrument._ProxyHistogram object at 0x00000163B00CF4D0>, streaming_duration_histogram=<opentelemetry.metrics._internal.instrument._ProxyHistogram object at 0x00000163B00CF560>, method=<bound method TimePlugin.day of TimePlugin()>, stream_method=None), 'dayOfWeek': KernelFunctionFromMethod(metadata=KernelFunctionMetadata(name='dayOfWeek', plugin_name='time', description='Get the current day of the week', parameters=[], is_prompt=False, is_asynchronous=False, return_parameter=KernelParameterMetadata(name='return', description='', default_value=None, type_='str', is_required=True, type_object=<class 'str'>, schema_data={'type': 'string'}, include_in_function_choices=True), additional_properties={}), invocation_duration_histogram=<opentelemetry.metrics._internal.instrument._ProxyHistogram object at 0x00000163B00CF650>, streaming_duration_histogram=<opentelemetry.metrics._internal.instrument._ProxyHistogram object at 0x00000163B00CF5F0>, method=<bound method TimePlugin.day_of_week of TimePlugin()>, stream_method=None), 'days_ago': KernelFunctionFromMethod(metadata=KernelFunctionMetadata(name='days_ago', plugin_name='time', description='Get the date of offset from today by a provided number of days', parameters=[KernelParameterMetadata(name='days', description=None, default_value=None, type_='str', is_required=True, type_object=<class 'str'>, schema_data={'type': 'string'}, include_in_function_choices=True)], is_prompt=False, is_asynchronous=False, return_parameter=KernelParameterMetadata(name='return', description='', default_value=None, type_='str', is_required=True, type_object=<class 'str'>, schema_data={'type': 'string'}, include_in_function_choices=True), additional_properties={}), invocation_duration_histogram=<opentelemetry.metrics._internal.instrument._ProxyHistogram object at 0x00000163B00CF500>, streaming_duration_histogram=<opentelemetry.metrics._internal.instrument._ProxyHistogram object at 0x00000163B00CF620>, method=<bound method TimePlugin.days_ago of TimePlugin()>, stream_method=None), 'hour': KernelFunctionFromMethod(metadata=KernelFunctionMetadata(name='hour', plugin_name='time', description='Get the current hour', parameters=[], is_prompt=False, is_asynchronous=False, return_parameter=KernelParameterMetadata(name='return', description='', default_value=None, type_='str', is_required=True, type_object=<class 'str'>, schema_data={'type': 'string'}, include_in_function_choices=True), additional_properties={}), invocation_duration_histogram=<opentelemetry.metrics._internal.instrument._ProxyHistogram object at 0x00000163B00CF530>, streaming_duration_histogram=<opentelemetry.metrics._internal.instrument._ProxyHistogram object at 0x00000163B00CEFF0>, method=<bound method TimePlugin.hour of TimePlugin()>, stream_method=None), 'hourNumber': KernelFunctionFromMethod(metadata=KernelFunctionMetadata(name='hourNumber', plugin_name='time', description='Get the current hour number', parameters=[], is_prompt=False, is_asynchronous=False, return_parameter=KernelParameterMetadata(name='return', description='', default_value=None, type_='str', is_required=True, type_object=<class 'str'>, schema_data={'type': 'string'}, include_in_function_choices=True), additional_properties={}), invocation_duration_histogram=<opentelemetry.metrics._internal.instrument._ProxyHistogram object at 0x00000163B00CF020>, streaming_duration_histogram=<opentelemetry.metrics._internal.instrument._ProxyHistogram object at 0x00000163B00CEFC0>, method=<bound method TimePlugin.hour_number of TimePlugin()>, stream_method=None), 'iso_date': KernelFunctionFromMethod(metadata=KernelFunctionMetadata(name='iso_date', plugin_name='time', description='Get the current date in iso format.', parameters=[], is_prompt=False, is_asynchronous=False, return_parameter=KernelParameterMetadata(name='return', description='', default_value=None, type_='str', is_required=True, type_object=<class 'str'>, schema_data={'type': 'string'}, include_in_function_choices=True), additional_properties={}), invocation_duration_histogram=<opentelemetry.metrics._internal.instrument._ProxyHistogram object at 0x00000163B00CEF90>, streaming_duration_histogram=<opentelemetry.metrics._internal.instrument._ProxyHistogram object at 0x00000163B00CEF00>, method=<bound method TimePlugin.iso_date of TimePlugin()>, stream_method=None), 'minute': KernelFunctionFromMethod(metadata=KernelFunctionMetadata(name='minute', plugin_name='time', description='Get the current minute', parameters=[], is_prompt=False, is_asynchronous=False, return_parameter=KernelParameterMetadata(name='return', description='', default_value=None, type_='str', is_required=True, type_object=<class 'str'>, schema_data={'type': 'string'}, include_in_function_choices=True), additional_properties={}), invocation_duration_histogram=<opentelemetry.metrics._internal.instrument._ProxyHistogram object at 0x00000163B00CEF30>, streaming_duration_histogram=<opentelemetry.metrics._internal.instrument._ProxyHistogram object at 0x00000163B00CEE10>, method=<bound method TimePlugin.minute of TimePlugin()>, stream_method=None), 'month': KernelFunctionFromMethod(metadata=KernelFunctionMetadata(name='month', plugin_name='time', description='Get the current month', parameters=[], is_prompt=False, is_asynchronous=False, return_parameter=KernelParameterMetadata(name='return', description='', default_value=None, type_='str', is_required=True, type_object=<class 'str'>, schema_data={'type': 'string'}, include_in_function_choices=True), additional_properties={}), invocation_duration_histogram=<opentelemetry.metrics._internal.instrument._ProxyHistogram object at 0x00000163B00CEDB0>, streaming_duration_histogram=<opentelemetry.metrics._internal.instrument._ProxyHistogram object at 0x00000163B00CEED0>, method=<bound method TimePlugin.month of TimePlugin()>, stream_method=None), 'month_number': KernelFunctionFromMethod(metadata=KernelFunctionMetadata(name='month_number', plugin_name='time', description='Get the current month number', parameters=[], is_prompt=False, is_asynchronous=False, return_parameter=KernelParameterMetadata(name='return', description='', default_value=None, type_='str', is_required=True, type_object=<class 'str'>, schema_data={'type': 'string'}, include_in_function_choices=True), additional_properties={}), invocation_duration_histogram=<opentelemetry.metrics._internal.instrument._ProxyHistogram object at 0x00000163B00CEDE0>, streaming_duration_histogram=<opentelemetry.metrics._internal.instrument._ProxyHistogram object at 0x00000163B00CEEA0>, method=<bound method TimePlugin.month_number of TimePlugin()>, stream_method=None), 'now': KernelFunctionFromMethod(metadata=KernelFunctionMetadata(name='now', plugin_name='time', description='Get the current date and time in the local time zone', parameters=[], is_prompt=False, is_asynchronous=False, return_parameter=KernelParameterMetadata(name='return', description='', default_value=None, type_='str', is_required=True, type_object=<class 'str'>, schema_data={'type': 'string'}, include_in_function_choices=True), additional_properties={}), invocation_duration_histogram=<opentelemetry.metrics._internal.instrument._ProxyHistogram object at 0x00000163B00CEE40>, streaming_duration_histogram=<opentelemetry.metrics._internal.instrument._ProxyHistogram object at 0x00000163B00CED80>, method=<bound method TimePlugin.now of TimePlugin()>, stream_method=None), 'second': KernelFunctionFromMethod(metadata=KernelFunctionMetadata(name='second', plugin_name='time', description='Get the seconds on the current minute', parameters=[], is_prompt=False, is_asynchronous=False, return_parameter=KernelParameterMetadata(name='return', description='', default_value=None, type_='str', is_required=True, type_object=<class 'str'>, schema_data={'type': 'string'}, include_in_function_choices=True), additional_properties={}), invocation_duration_histogram=<opentelemetry.metrics._internal.instrument._ProxyHistogram object at 0x00000163B00CE0F0>, streaming_duration_histogram=<opentelemetry.metrics._internal.instrument._ProxyHistogram object at 0x00000163B00CE120>, method=<bound method TimePlugin.second of TimePlugin()>, stream_method=None), 'time': KernelFunctionFromMethod(metadata=KernelFunctionMetadata(name='time', plugin_name='time', description='Get the current time in the local time zone', parameters=[], is_prompt=False, is_asynchronous=False, return_parameter=KernelParameterMetadata(name='return', description='', default_value=None, type_='str', is_required=True, type_object=<class 'str'>, schema_data={'type': 'string'}, include_in_function_choices=True), additional_properties={}), invocation_duration_histogram=<opentelemetry.metrics._internal.instrument._ProxyHistogram object at 0x00000163B00CE0C0>, streaming_duration_histogram=<opentelemetry.metrics._internal.instrument._ProxyHistogram object at 0x00000163B00CE090>, method=<bound method TimePlugin.time of TimePlugin()>, stream_method=None), 'timeZoneName': KernelFunctionFromMethod(metadata=KernelFunctionMetadata(name='timeZoneName', plugin_name='time', description='Get the current time zone name', parameters=[], is_prompt=False, is_asynchronous=False, return_parameter=KernelParameterMetadata(name='return', description='', default_value=None, type_='str', is_required=True, type_object=<class 'str'>, schema_data={'type': 'string'}, include_in_function_choices=True), additional_properties={}), invocation_duration_histogram=<opentelemetry.metrics._internal.instrument._ProxyHistogram object at 0x00000163B00CE030>, streaming_duration_histogram=<opentelemetry.metrics._internal.instrument._ProxyHistogram object at 0x00000163B00CE060>, method=<bound method TimePlugin.time_zone_name of TimePlugin()>, stream_method=None), 'timeZoneOffset': KernelFunctionFromMethod(metadata=KernelFunctionMetadata(name='timeZoneOffset', plugin_name='time', description='Get the current time zone offset', parameters=[], is_prompt=False, is_asynchronous=False, return_parameter=KernelParameterMetadata(name='return', description='', default_value=None, type_='str', is_required=True, type_object=<class 'str'>, schema_data={'type': 'string'}, include_in_function_choices=True), additional_properties={}), invocation_duration_histogram=<opentelemetry.metrics._internal.instrument._ProxyHistogram object at 0x00000163B00CDF40>, streaming_duration_histogram=<opentelemetry.metrics._internal.instrument._ProxyHistogram object at 0x00000163B00CDFA0>, method=<bound method TimePlugin.time_zone_offset of TimePlugin()>, stream_method=None), 'today': KernelFunctionFromMethod(metadata=KernelFunctionMetadata(name='today', plugin_name='time', description='Get the current date.', parameters=[], is_prompt=False, is_asynchronous=False, return_parameter=KernelParameterMetadata(name='return', description='', default_value=None, type_='str', is_required=True, type_object=<class 'str'>, schema_data={'type': 'string'}, include_in_function_choices=True), additional_properties={}), invocation_duration_histogram=<opentelemetry.metrics._internal.instrument._ProxyHistogram object at 0x00000163B00CE000>, streaming_duration_histogram=<opentelemetry.metrics._internal.instrument._ProxyHistogram object at 0x00000163B00CDFD0>, method=<bound method TimePlugin.today of TimePlugin()>, stream_method=None), 'utcNow': KernelFunctionFromMethod(metadata=KernelFunctionMetadata(name='utcNow', plugin_name='time', description='Get the current date and time in UTC', parameters=[], is_prompt=False, is_asynchronous=False, return_parameter=KernelParameterMetadata(name='return', description='', default_value=None, type_='str', is_required=True, type_object=<class 'str'>, schema_data={'type': 'string'}, include_in_function_choices=True), additional_properties={}), invocation_duration_histogram=<opentelemetry.metrics._internal.instrument._ProxyHistogram object at 0x00000163B00CDF10>, streaming_duration_histogram=<opentelemetry.metrics._internal.instrument._ProxyHistogram object at 0x00000163B00CDF70>, method=<bound method TimePlugin.utc_now of TimePlugin()>, stream_method=None), 'year': KernelFunctionFromMethod(metadata=KernelFunctionMetadata(name='year', plugin_name='time', description='Get the current year', parameters=[], is_prompt=False, is_asynchronous=False, return_parameter=KernelParameterMetadata(name='return', description='', default_value=None, type_='str', is_required=True, type_object=<class 'str'>, schema_data={'type': 'string'}, include_in_function_choices=True), additional_properties={}), invocation_duration_histogram=<opentelemetry.metrics._internal.instrument._ProxyHistogram object at 0x00000163B00CDEE0>, streaming_duration_histogram=<opentelemetry.metrics._internal.instrument._ProxyHistogram object at 0x00000163B00CDC70>, method=<bound method TimePlugin.year of TimePlugin()>, stream_method=None)})"
      ]
     },
     "execution_count": 7,
     "metadata": {},
     "output_type": "execute_result"
    }
   ],
   "source": [
    "from semantic_kernel.core_plugins import MathPlugin, TimePlugin\n",
    "\n",
    "kernel.add_plugin(MathPlugin(), plugin_name=\"math\")\n",
    "kernel.add_plugin(TimePlugin(), plugin_name=\"time\")"
   ]
  },
  {
   "cell_type": "markdown",
   "metadata": {},
   "source": [
    "### プロンプトテンプレート作成して登録する\n",
    "\n",
    "今回のチャットでは、過去の会話履歴（chat_history）とユーザーの入力（request）を組み合わせるためのプロンプトを準備します。<br/>\n",
    "\"semantic-kernel\" 形式のテンプレートで、両方の情報が埋め込まれるように設定します。"
   ]
  },
  {
   "cell_type": "code",
   "execution_count": 8,
   "metadata": {},
   "outputs": [],
   "source": [
    "from semantic_kernel.prompt_template import InputVariable, PromptTemplateConfig\n",
    "from semantic_kernel.connectors.ai.open_ai import AzureChatPromptExecutionSettings\n",
    "\n",
    "template = \"\"\"\n",
    "Previous information from chat:\n",
    "{{$chat_history}}\n",
    "\n",
    "User: {{$request}}\n",
    "Assistant:\n",
    "\"\"\"\n",
    "prompt_template_config = PromptTemplateConfig(\n",
    "    template=template,\n",
    "    name=\"chat\",\n",
    "    description=\"Chat with the assistant\",\n",
    "    template_format=\"semantic-kernel\",\n",
    "    input_variables=[\n",
    "        InputVariable(name=\"chat_history\", description=\"The conversation history\", is_required=False, default=\"\"),\n",
    "        InputVariable(name=\"request\", description=\"The user's request\", is_required=True),\n",
    "    ],\n",
    "    execution_settings=AzureChatPromptExecutionSettings(function_choice_behavior=\"auto\"),\n",
    ")"
   ]
  },
  {
   "cell_type": "markdown",
   "metadata": {},
   "source": [
    "Kernel（カーネル）にプロンプトテンプレートを使って関数として登録します。"
   ]
  },
  {
   "cell_type": "code",
   "execution_count": 9,
   "metadata": {},
   "outputs": [],
   "source": [
    "chat_function = kernel.add_function(\n",
    "    function_name=\"chat\",\n",
    "    plugin_name=\"ChatBot\",\n",
    "    prompt_template_config=prompt_template_config,\n",
    ")"
   ]
  },
  {
   "cell_type": "markdown",
   "metadata": {},
   "source": [
    "### 会話を開始し、AIの応答を受け取る\n",
    "\n",
    "会話レベルでユーザーの入力を送信し、Chat Completion APIから応答を取得して出力します。<br/>\n",
    "Kernel（カーネル）を呼び出す際は、Kernel Argumentsを使って引数を設定します。"
   ]
  },
  {
   "cell_type": "markdown",
   "metadata": {},
   "source": [
    "ローカルの時間を出力してみます。"
   ]
  },
  {
   "cell_type": "code",
   "execution_count": 10,
   "metadata": {},
   "outputs": [
    {
     "name": "stdout",
     "output_type": "stream",
     "text": [
      "16:28:27.09\n"
     ]
    }
   ],
   "source": [
    "!echo %time%"
   ]
  },
  {
   "cell_type": "markdown",
   "metadata": {},
   "source": [
    "Kernel（カーネル）に登録したコアー関数をFunction Callingによって呼び出されるように現在の時間を聞いてみます。"
   ]
  },
  {
   "cell_type": "code",
   "execution_count": 11,
   "metadata": {},
   "outputs": [
    {
     "name": "stdout",
     "output_type": "stream",
     "text": [
      "User: Hello, how are you? I'm Jin, What time is it in Japan?\n",
      "Assistant: Hello Jin! I'm doing great, thank you. It's currently Saturday, March 8, 2025, 4:28 PM in Japan. How can I assist you further?\n"
     ]
    }
   ],
   "source": [
    "from semantic_kernel.functions import KernelArguments\n",
    "user_input = \"Hello, how are you? I'm Jin, What time is it in Japan?\"\n",
    "answer = await kernel.invoke(\n",
    "    function=chat_function,\n",
    "    arguments=KernelArguments(\n",
    "        request=user_input,\n",
    "        chat_history=chat_history,\n",
    "    ),\n",
    ")\n",
    "print(\"User:\", user_input)\n",
    "chat_history.add_user_message(user_input)\n",
    "print(\"Assistant:\", answer)\n",
    "chat_history.add_assistant_message(str(answer))"
   ]
  },
  {
   "cell_type": "markdown",
   "metadata": {},
   "source": [
    "履歴の確認と、数値計算のコアー関数がFunction Callingで呼び出されるように聞いてみます。"
   ]
  },
  {
   "cell_type": "code",
   "execution_count": 12,
   "metadata": {},
   "outputs": [
    {
     "name": "stdout",
     "output_type": "stream",
     "text": [
      "User: What is my name? And what is the result of 100.00000001+100.000000000002?\n",
      "Assistant: Your name is Jin! 😊\n",
      "\n",
      "As for the calculation:\n",
      "\n",
      "\\(100.00000001 + 100.000000000002 = 200.000000010002\\)\n",
      "\n",
      "Let me know if you'd like more help!\n"
     ]
    }
   ],
   "source": [
    "user_input = \"What is my name? And what is the result of 100.00000001+100.000000000002?\"\n",
    "answer = await kernel.invoke(\n",
    "    function=chat_function,\n",
    "    arguments=KernelArguments(\n",
    "        request=user_input,\n",
    "        chat_history=chat_history,\n",
    "    ),\n",
    ")\n",
    "print(\"User:\", user_input)\n",
    "print(\"Assistant:\", answer)"
   ]
  }
 ],
 "metadata": {
  "kernelspec": {
   "display_name": ".venv",
   "language": "python",
   "name": "python3"
  },
  "language_info": {
   "codemirror_mode": {
    "name": "ipython",
    "version": 3
   },
   "file_extension": ".py",
   "mimetype": "text/x-python",
   "name": "python",
   "nbconvert_exporter": "python",
   "pygments_lexer": "ipython3",
   "version": "3.12.8"
  }
 },
 "nbformat": 4,
 "nbformat_minor": 2
}
